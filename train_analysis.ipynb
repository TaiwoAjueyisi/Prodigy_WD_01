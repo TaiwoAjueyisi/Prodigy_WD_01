{
  "cells": [
    {
      "cell_type": "markdown",
      "metadata": {
        "id": "view-in-github",
        "colab_type": "text"
      },
      "source": [
        "<a href=\"https://colab.research.google.com/github/TaiwoAjueyisi/Prodigy_WD_01/blob/main/train_analysis.ipynb\" target=\"_parent\"><img src=\"https://colab.research.google.com/assets/colab-badge.svg\" alt=\"Open In Colab\"/></a>"
      ]
    },
    {
      "cell_type": "code",
      "execution_count": null,
      "metadata": {
        "id": "xKzuGVAg55CG"
      },
      "outputs": [],
      "source": [
        "import pandas as pd\n"
      ]
    },
    {
      "cell_type": "code",
      "execution_count": null,
      "metadata": {
        "id": "k1tk4WtJ55cl"
      },
      "outputs": [],
      "source": [
        "import numpy as np"
      ]
    },
    {
      "cell_type": "code",
      "execution_count": null,
      "metadata": {
        "id": "ckw42I8l6GAJ"
      },
      "outputs": [],
      "source": [
        "import matplotlib.pyplot as plt"
      ]
    },
    {
      "cell_type": "code",
      "execution_count": null,
      "metadata": {
        "id": "LheIYIOr6Jia"
      },
      "outputs": [],
      "source": [
        "import seaborn as sns"
      ]
    },
    {
      "cell_type": "code",
      "execution_count": null,
      "metadata": {
        "id": "tt-CYnjH76Xx"
      },
      "outputs": [],
      "source": [
        "#setting visualization styles\n",
        "sns.set(style=\"whitegrid\")"
      ]
    },
    {
      "cell_type": "code",
      "execution_count": null,
      "metadata": {
        "id": "IcG-gfc04HzR"
      },
      "outputs": [],
      "source": [
        "from google.colab import files\n",
        "uploaded = files.upload()"
      ]
    },
    {
      "cell_type": "markdown",
      "metadata": {
        "id": "e1EYifsQ6VWE"
      },
      "source": [
        "#connect to data\n",
        "df = pd.read_csv('train.CSV')"
      ]
    },
    {
      "cell_type": "code",
      "execution_count": null,
      "metadata": {
        "id": "dDBsBnrp3C3a"
      },
      "outputs": [],
      "source": [
        "#connect to data\n",
        "df = pd.read_csv('train.csv')"
      ]
    },
    {
      "cell_type": "code",
      "execution_count": null,
      "metadata": {
        "id": "sIQw5vPE65NA"
      },
      "outputs": [],
      "source": [
        "#reflect the first few column of the dataset\n",
        "df.head()"
      ]
    },
    {
      "cell_type": "code",
      "execution_count": null,
      "metadata": {
        "id": "Y0ex2-zm9T33"
      },
      "outputs": [],
      "source": [
        "#checking the shape of the dataset\n",
        "print(f\"The dataset contain {df.shape[0]} rows and {df.shape[1]} columns\")"
      ]
    },
    {
      "cell_type": "code",
      "execution_count": null,
      "metadata": {
        "id": "ZP-bLKSS1Plc"
      },
      "outputs": [],
      "source": [
        "#display the data type of each column\n",
        "print(\"\\nData type of each column:\")\n",
        "df.dtypes"
      ]
    },
    {
      "cell_type": "code",
      "execution_count": null,
      "metadata": {
        "id": "lmqA0PPV48IK"
      },
      "outputs": [],
      "source": [
        "#Getting the summary of dataset using descriptive statistics\n",
        "print(\"\\nSummary of dataset:\")\n",
        "print(df.describe().T)"
      ]
    },
    {
      "cell_type": "code",
      "execution_count": null,
      "metadata": {
        "id": "PO2BVd6c48qw"
      },
      "outputs": [],
      "source": [
        "#identifying categorical and numerical variables\n",
        "\n",
        "categorical_vars = df.select_dtypes(include=['object', 'category']).columns.tolist()\n",
        "numerical_vars = df.select_dtypes(include=['number']).columns.tolist()\n",
        "\n",
        "print(\"Categorical Variables:\", categorical_vars)\n",
        "print(\"Numerical Variables:\", numerical_vars)\n"
      ]
    },
    {
      "cell_type": "code",
      "execution_count": null,
      "metadata": {
        "id": "HLHbd_-7FTO1"
      },
      "outputs": [],
      "source": [
        "# Dropping unnecessary columns\n",
        "columns_to_drop = ['PassengerId', 'Name', 'Ticket', 'Cabin']\n",
        "df.drop(columns=columns_to_drop, inplace=True)\n",
        "\n",
        "# Display the first few columns to confirm changes\n",
        "df.head()"
      ]
    },
    {
      "cell_type": "code",
      "execution_count": null,
      "metadata": {
        "id": "c4d9gufcC-jA"
      },
      "outputs": [],
      "source": [
        "numerical_vars"
      ]
    },
    {
      "cell_type": "code",
      "execution_count": null,
      "metadata": {
        "id": "h2woJKJdKNFq"
      },
      "outputs": [],
      "source": [
        "# Plot for Survived using separate bar colors\n",
        "\n",
        "# Create figure\n",
        "plt.figure(figsize=(10, 4))\n",
        "\n",
        "# --- Pclass Plot ---\n",
        "plt.subplot(1, 2, 1)\n",
        "\n",
        "# Count values\n",
        "pclass_counts = df['Pclass'].value_counts().sort_index()\n",
        "# Define colors for Pclass: 1st, 2nd, 3rd\n",
        "pclass_colors = ['gold', 'skyblue', 'lightcoral']\n",
        "\n",
        "# Bar plot\n",
        "plt.bar(pclass_counts.index, pclass_counts.values, color=pclass_colors, edgecolor='black', width=0.8)\n",
        "plt.xticks([1, 2, 3], ['1st Class', '2nd Class', '3rd Class'])\n",
        "plt.title('Distribution of Pclass')\n",
        "plt.xlabel('Pclass')\n",
        "plt.ylabel('Count')\n",
        "\n"
      ]
    },
    {
      "cell_type": "code",
      "execution_count": null,
      "metadata": {
        "id": "f16PB1ZPMANk"
      },
      "outputs": [],
      "source": [
        "# Survive univariant analysis\n",
        "# Count values\n",
        "survival_counts = df['Survived'].dropna().value_counts().sort_index()\n",
        "# Define colors for 0 and 1\n",
        "colors = ['indianred', 'mediumseagreen']\n",
        "\n",
        "# Bar plot\n",
        "plt.bar(survival_counts.index, survival_counts.values, color=colors, edgecolor='black', width=0.8,)\n",
        "plt.xticks([0, 1], ['Not Survived', 'Survived'])\n",
        "plt.title('Count of Survivors Vs Non-Survivors')\n",
        "plt.xlabel('Survived')\n",
        "plt.ylabel('Count')\n",
        "\n",
        "plt.tight_layout()\n",
        "plt.show()"
      ]
    },
    {
      "cell_type": "code",
      "execution_count": null,
      "metadata": {
        "id": "mU5054KaGXnR"
      },
      "outputs": [],
      "source": [
        "#  box Most passengers are clustered in 2nd and 3rd class, with fewer in 1st class. Since Pclass is a categorical variable (1, 2, 3),\n",
        "plt.figure(figsize=(10, 4))\n",
        "for var in ['Pclass', 'Survived']:\n",
        "    sns.boxplot(x=df[var].dropna())\n",
        "    plt.title(f'Distribution of {var}')\n",
        "    plt.show()\n"
      ]
    },
    {
      "cell_type": "code",
      "execution_count": null,
      "metadata": {
        "id": "6STKUWpFSRCF"
      },
      "outputs": [],
      "source": [
        "# Bivariant analysis: survival rate by passenger class\n",
        "plt.figure(figsize=(10, 6))\n",
        "sns.countplot(x='Pclass', hue='Survived', data=df, palette='Set1')\n",
        "plt.title('Survival Rate by Passenger Class')\n",
        "plt.xlabel('Passenger Class')\n",
        "plt.ylabel('Count')\n",
        "plt.legend(title='Survived', loc='upper right')\n",
        "plt.show()"
      ]
    },
    {
      "cell_type": "code",
      "execution_count": null,
      "metadata": {
        "id": "Cc6KTnyHWYm5"
      },
      "outputs": [],
      "source": [
        "# Bivariant analysis: survival rate by passenger class kde plot\n",
        "plt.figure(figsize=(10, 6))\n",
        "sns.kdeplot(df[df['Survived'] == 1]['Age'].dropna(), fill=True, label='Survived', color='blue')\n",
        "plt.title('Survival Rate by Pclass')\n",
        "plt.xlabel('Age')\n",
        "plt.ylabel('Density')\n"
      ]
    },
    {
      "cell_type": "code",
      "execution_count": null,
      "metadata": {
        "id": "x3jY5pAZSVaw"
      },
      "outputs": [],
      "source": []
    }
  ],
  "metadata": {
    "colab": {
      "provenance": [],
      "mount_file_id": "1HPGJwDpdvwWve29XwW_9O-IgrFn1vgnQ",
      "authorship_tag": "ABX9TyNSh1kRz4u1d5FhNUAZYdtA",
      "include_colab_link": true
    },
    "kernelspec": {
      "display_name": "Python 3",
      "name": "python3"
    },
    "language_info": {
      "name": "python"
    }
  },
  "nbformat": 4,
  "nbformat_minor": 0
}